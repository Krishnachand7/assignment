{
 "cells": [
  {
   "cell_type": "code",
   "execution_count": 1,
   "id": "e25c5b7c-abcc-42a5-bb25-acb4e9e40864",
   "metadata": {},
   "outputs": [],
   "source": [
    "# print('krishna chand')"
   ]
  },
  {
   "cell_type": "markdown",
   "id": "78dc2acb-bff4-4ba2-a5d3-ba0ccca29638",
   "metadata": {},
   "source": [
    "this is single line comment which is denoted by # "
   ]
  },
  {
   "cell_type": "code",
   "execution_count": null,
   "id": "de1d35df-9c89-41f2-85bf-f4ea3703332d",
   "metadata": {},
   "outputs": [],
   "source": [
    "'''\n",
    "print('krishna')\n",
    "print('chand')\n",
    "'''"
   ]
  },
  {
   "cell_type": "markdown",
   "id": "1b7ddc1d-d9bb-4485-8173-38cde7df1698",
   "metadata": {},
   "source": [
    "this is multi line comment which is denoted by \"\"\" \"\"\""
   ]
  },
  {
   "cell_type": "markdown",
   "id": "f21b89e0-47d6-4090-bc43-8daa56af0e3b",
   "metadata": {},
   "source": [
    "A variable in python is used to store data. A variable may be an alphabet of a combimation of alphabet and number except special characters"
   ]
  },
  {
   "cell_type": "code",
   "execution_count": 4,
   "id": "5559fc30-e3d0-4b4a-ba7e-b1f7aa078534",
   "metadata": {},
   "outputs": [],
   "source": [
    "a=10 \n",
    "abc=20 \n",
    "a1=30\n",
    "# here a,abc,a1 are the variables and 10,20,30 are the values assigned to the variables\n"
   ]
  },
  {
   "cell_type": "code",
   "execution_count": 5,
   "id": "e8d6d30f-b18c-4053-ac1a-d0d0d5997e9c",
   "metadata": {},
   "outputs": [
    {
     "data": {
      "text/plain": [
       "10"
      ]
     },
     "execution_count": 5,
     "metadata": {},
     "output_type": "execute_result"
    }
   ],
   "source": [
    "a"
   ]
  },
  {
   "cell_type": "code",
   "execution_count": 6,
   "id": "aad1ed09-f6e9-4f4f-b12a-eec236810270",
   "metadata": {},
   "outputs": [
    {
     "data": {
      "text/plain": [
       "20"
      ]
     },
     "execution_count": 6,
     "metadata": {},
     "output_type": "execute_result"
    }
   ],
   "source": [
    "abc"
   ]
  },
  {
   "cell_type": "code",
   "execution_count": 7,
   "id": "ecc0bd24-afcd-4cac-ab93-1dbdaf27683d",
   "metadata": {},
   "outputs": [
    {
     "data": {
      "text/plain": [
       "30"
      ]
     },
     "execution_count": 7,
     "metadata": {},
     "output_type": "execute_result"
    }
   ],
   "source": [
    "a1"
   ]
  },
  {
   "cell_type": "markdown",
   "id": "3a10908d-8b63-41a6-adc0-92a79f05ebbb",
   "metadata": {},
   "source": [
    "convert one data type to another in Python"
   ]
  },
  {
   "cell_type": "code",
   "execution_count": 8,
   "id": "625e0d91-d863-46c9-a49f-df9b065cf912",
   "metadata": {},
   "outputs": [],
   "source": [
    "a=100"
   ]
  },
  {
   "cell_type": "code",
   "execution_count": 9,
   "id": "678d816b-cf2e-47f3-8e66-20f04e6e609d",
   "metadata": {},
   "outputs": [
    {
     "data": {
      "text/plain": [
       "int"
      ]
     },
     "execution_count": 9,
     "metadata": {},
     "output_type": "execute_result"
    }
   ],
   "source": [
    "type(a)"
   ]
  },
  {
   "cell_type": "code",
   "execution_count": 12,
   "id": "4fa8922f-92a8-4ecf-b6c0-e7e1a9c569cd",
   "metadata": {},
   "outputs": [],
   "source": [
    "b=str(a)"
   ]
  },
  {
   "cell_type": "code",
   "execution_count": 13,
   "id": "eebc0830-7496-4d25-ba97-44c072bc9960",
   "metadata": {},
   "outputs": [
    {
     "data": {
      "text/plain": [
       "'100'"
      ]
     },
     "execution_count": 13,
     "metadata": {},
     "output_type": "execute_result"
    }
   ],
   "source": [
    "str(a)"
   ]
  },
  {
   "cell_type": "code",
   "execution_count": 14,
   "id": "469e8514-2ddf-402c-8204-f036be3d1e85",
   "metadata": {},
   "outputs": [
    {
     "data": {
      "text/plain": [
       "str"
      ]
     },
     "execution_count": 14,
     "metadata": {},
     "output_type": "execute_result"
    }
   ],
   "source": [
    "type(b)"
   ]
  },
  {
   "cell_type": "code",
   "execution_count": 15,
   "id": "508b43bb-85b1-451f-bc4e-9a082e7e8517",
   "metadata": {},
   "outputs": [],
   "source": [
    "list=[1,2,3,4]"
   ]
  },
  {
   "cell_type": "code",
   "execution_count": 16,
   "id": "af34a408-348b-44e2-a15a-55fc812b031f",
   "metadata": {},
   "outputs": [
    {
     "data": {
      "text/plain": [
       "list"
      ]
     },
     "execution_count": 16,
     "metadata": {},
     "output_type": "execute_result"
    }
   ],
   "source": [
    "type(list)"
   ]
  },
  {
   "cell_type": "code",
   "execution_count": 17,
   "id": "32107583-d037-483a-bec9-7556d35b0976",
   "metadata": {},
   "outputs": [
    {
     "data": {
      "text/plain": [
       "'[1, 2, 3, 4]'"
      ]
     },
     "execution_count": 17,
     "metadata": {},
     "output_type": "execute_result"
    }
   ],
   "source": [
    "str(list)"
   ]
  },
  {
   "cell_type": "code",
   "execution_count": 20,
   "id": "7e50ba02-7f78-4f45-8f71-3e00355f4551",
   "metadata": {},
   "outputs": [
    {
     "name": "stdout",
     "output_type": "stream",
     "text": [
      "250\n"
     ]
    }
   ],
   "source": [
    "a=100\n",
    "b=150\n",
    "c=a+b\n",
    "print(c)"
   ]
  },
  {
   "cell_type": "code",
   "execution_count": 21,
   "id": "b1fc7616-7196-4dc1-bcf9-2b789948b7cd",
   "metadata": {},
   "outputs": [],
   "source": [
    "my_list=[1,2,3,4,5]\n"
   ]
  },
  {
   "cell_type": "code",
   "execution_count": 24,
   "id": "4ea9358a-6313-4c83-b78a-6ea095b875d5",
   "metadata": {},
   "outputs": [
    {
     "data": {
      "text/plain": [
       "[2, 3]"
      ]
     },
     "execution_count": 24,
     "metadata": {},
     "output_type": "execute_result"
    }
   ],
   "source": [
    "my_list[1:3]"
   ]
  },
  {
   "cell_type": "markdown",
   "id": "42915874-3572-4243-886f-7d93f79c3144",
   "metadata": {},
   "source": [
    "a complex number is in the form of a+ib \n"
   ]
  },
  {
   "cell_type": "code",
   "execution_count": 25,
   "id": "b85fae3f-54d7-493f-82be-64ca41d359ed",
   "metadata": {},
   "outputs": [],
   "source": [
    "complex=2+5j"
   ]
  },
  {
   "cell_type": "code",
   "execution_count": 26,
   "id": "27eef1c5-34d6-41c5-9383-af404a870487",
   "metadata": {},
   "outputs": [
    {
     "data": {
      "text/plain": [
       "(2+5j)"
      ]
     },
     "execution_count": 26,
     "metadata": {},
     "output_type": "execute_result"
    }
   ],
   "source": [
    "complex"
   ]
  },
  {
   "cell_type": "code",
   "execution_count": 30,
   "id": "ea87c1b8-f01d-4f90-abf6-3a9661012bc9",
   "metadata": {},
   "outputs": [],
   "source": [
    "age=25"
   ]
  },
  {
   "cell_type": "code",
   "execution_count": 31,
   "id": "53b3de5a-391e-43e1-9d68-c2d972dae70a",
   "metadata": {},
   "outputs": [
    {
     "data": {
      "text/plain": [
       "25"
      ]
     },
     "execution_count": 31,
     "metadata": {},
     "output_type": "execute_result"
    }
   ],
   "source": [
    "age"
   ]
  },
  {
   "cell_type": "code",
   "execution_count": 32,
   "id": "da442252-558a-413a-9f65-9b53cc72a2f6",
   "metadata": {},
   "outputs": [],
   "source": [
    "price=9.99"
   ]
  },
  {
   "cell_type": "code",
   "execution_count": 33,
   "id": "e46eac1b-35bd-4343-b0a3-5faef197d398",
   "metadata": {},
   "outputs": [
    {
     "data": {
      "text/plain": [
       "float"
      ]
     },
     "execution_count": 33,
     "metadata": {},
     "output_type": "execute_result"
    }
   ],
   "source": [
    "type(price)"
   ]
  },
  {
   "cell_type": "code",
   "execution_count": 34,
   "id": "2db978fb-eb5b-483f-a971-c8403de5c5e7",
   "metadata": {},
   "outputs": [],
   "source": [
    "name='kothapalli keerthi krishna chand'"
   ]
  },
  {
   "cell_type": "code",
   "execution_count": 35,
   "id": "16629fda-c3db-4e2d-ab1b-ce95dcc79db5",
   "metadata": {},
   "outputs": [
    {
     "data": {
      "text/plain": [
       "'kothapalli keerthi krishna chand'"
      ]
     },
     "execution_count": 35,
     "metadata": {},
     "output_type": "execute_result"
    }
   ],
   "source": [
    "name"
   ]
  },
  {
   "cell_type": "code",
   "execution_count": 38,
   "id": "81b60af4-0c3a-4738-87d9-1af24cc49103",
   "metadata": {},
   "outputs": [],
   "source": [
    "k=\"hello, world!\""
   ]
  },
  {
   "cell_type": "code",
   "execution_count": 39,
   "id": "8027d081-a01a-4ddc-8aac-607a049e36d7",
   "metadata": {},
   "outputs": [
    {
     "data": {
      "text/plain": [
       "'world'"
      ]
     },
     "execution_count": 39,
     "metadata": {},
     "output_type": "execute_result"
    }
   ],
   "source": [
    "k[7:12]"
   ]
  },
  {
   "cell_type": "code",
   "execution_count": 40,
   "id": "a72af91b-931c-468a-9a75-6bbfd188c3ab",
   "metadata": {},
   "outputs": [],
   "source": [
    "is_student=True"
   ]
  },
  {
   "cell_type": "code",
   "execution_count": 42,
   "id": "eb72728e-3f34-44ae-807a-1b7c9d7aee39",
   "metadata": {},
   "outputs": [
    {
     "data": {
      "text/plain": [
       "bool"
      ]
     },
     "execution_count": 42,
     "metadata": {},
     "output_type": "execute_result"
    }
   ],
   "source": [
    "type(is_student)"
   ]
  },
  {
   "cell_type": "code",
   "execution_count": null,
   "id": "5fb999d6-b9d4-4f04-a041-c77837c8b80d",
   "metadata": {},
   "outputs": [],
   "source": []
  }
 ],
 "metadata": {
  "kernelspec": {
   "display_name": "Python 3 (ipykernel)",
   "language": "python",
   "name": "python3"
  },
  "language_info": {
   "codemirror_mode": {
    "name": "ipython",
    "version": 3
   },
   "file_extension": ".py",
   "mimetype": "text/x-python",
   "name": "python",
   "nbconvert_exporter": "python",
   "pygments_lexer": "ipython3",
   "version": "3.10.8"
  }
 },
 "nbformat": 4,
 "nbformat_minor": 5
}
